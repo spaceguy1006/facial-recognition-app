{
 "cells": [
  {
   "cell_type": "markdown",
   "id": "fd277650",
   "metadata": {},
   "source": [
    "Importing all the relevant libraries"
   ]
  },
  {
   "cell_type": "code",
   "execution_count": 1,
   "id": "73281af7",
   "metadata": {},
   "outputs": [
    {
     "name": "stderr",
     "output_type": "stream",
     "text": [
      "2024-01-21 19:23:06.035257: I tensorflow/core/platform/cpu_feature_guard.cc:193] This TensorFlow binary is optimized with oneAPI Deep Neural Network Library (oneDNN) to use the following CPU instructions in performance-critical operations:  SSE4.1 SSE4.2\n",
      "To enable them in other operations, rebuild TensorFlow with the appropriate compiler flags.\n"
     ]
    }
   ],
   "source": [
    "import cv2\n",
    "import os\n",
    "import random\n",
    "import numpy as np\n",
    "import matplotlib.pyplot as plt\n",
    "import tensorflow as tf\n",
    "from tensorflow.keras.models import Model\n",
    "from tensorflow.keras.layers import Layer, Conv2D, Dense, MaxPooling2D, Input, Flatten"
   ]
  },
  {
   "cell_type": "markdown",
   "id": "b5c809b0",
   "metadata": {},
   "source": [
    "Creating folders for training data/anchor data\n",
    "\n",
    "(anchor data is the all the real time images taken from the webcam)"
   ]
  },
  {
   "cell_type": "markdown",
   "id": "da7748e8",
   "metadata": {},
   "source": [
    "These are just the paths that have been defined that link the data and positive folder etc\n",
    "\n",
    "Positive folder is going to contain several images of my face\n",
    "Negative folder is going to contain several images of people's faces that aren't mine"
   ]
  },
  {
   "cell_type": "code",
   "execution_count": 2,
   "id": "f6294f01",
   "metadata": {},
   "outputs": [],
   "source": [
    "pos_path = os.path.join('data', 'positive')\n",
    "neg_path = os.path.join('data', 'negative')\n",
    "anc_path = os.path.join('data', 'anchor')"
   ]
  },
  {
   "cell_type": "markdown",
   "id": "115370bb",
   "metadata": {},
   "source": [
    "The code below creates the folders/directories using the paths defined above"
   ]
  },
  {
   "cell_type": "code",
   "execution_count": null,
   "id": "3612b451",
   "metadata": {},
   "outputs": [],
   "source": [
    "os.makedirs(pos_path)\n",
    "os.makedirs(neg_path)\n",
    "os.makedirs(anc_path)"
   ]
  },
  {
   "cell_type": "markdown",
   "id": "a70ada00",
   "metadata": {},
   "source": [
    "The website below is used to populate the negative folder http://vis-www.cs.umass.edu/lfw/"
   ]
  },
  {
   "cell_type": "markdown",
   "id": "7647b3a9",
   "metadata": {},
   "source": [
    "This uncompresses the TAR files dataset"
   ]
  },
  {
   "cell_type": "code",
   "execution_count": null,
   "id": "a1e2e0df",
   "metadata": {},
   "outputs": [],
   "source": [
    "!tar -xf lfw.tgz"
   ]
  },
  {
   "cell_type": "markdown",
   "id": "7f10be6f",
   "metadata": {},
   "source": [
    "There are several folders in here which are the names of the people and the photos of their face inside the folders. Names are irrelevant in our case so we're extracting all photos from all folders and appending them to the negative folder"
   ]
  },
  {
   "cell_type": "code",
   "execution_count": null,
   "id": "358ab356",
   "metadata": {},
   "outputs": [],
   "source": [
    "for directory in os.listdir('lfw'):\n",
    "    for file in os.listdir(os.path.join('lfw', directory)):\n",
    "        ex_path = os.path.join('lfw', directory, file)\n",
    "        new_path = os.path.join(neg_path, file)\n",
    "        os.replace(ex_path, new_path)"
   ]
  },
  {
   "cell_type": "code",
   "execution_count": 4,
   "id": "016d8ede",
   "metadata": {},
   "outputs": [],
   "source": [
    "import uuid"
   ]
  },
  {
   "cell_type": "code",
   "execution_count": 5,
   "id": "39ec846f",
   "metadata": {},
   "outputs": [
    {
     "data": {
      "text/plain": [
       "'data/anchor/<function uuid1 at 0x7f8bf07b6950>.jpg'"
      ]
     },
     "execution_count": 5,
     "metadata": {},
     "output_type": "execute_result"
    }
   ],
   "source": [
    "os.path.join(anc_path, '{}.jpg'.format(uuid.uuid1))"
   ]
  },
  {
   "cell_type": "code",
   "execution_count": 4,
   "id": "2aeb1e53",
   "metadata": {
    "scrolled": true
   },
   "outputs": [
    {
     "name": "stderr",
     "output_type": "stream",
     "text": [
      "[ WARN:0@73.219] global /private/var/folders/sy/f16zz6x50xz3113nwtb9bvq00000gp/T/abs_5a1v4y7k9y/croot/opencv-suite_1676472757237/work/modules/videoio/src/cap_gstreamer.cpp (862) isPipelinePlaying OpenCV | GStreamer warning: GStreamer: pipeline have not been created\n"
     ]
    },
    {
     "ename": "error",
     "evalue": "OpenCV(4.6.0) /private/var/folders/sy/f16zz6x50xz3113nwtb9bvq00000gp/T/abs_5a1v4y7k9y/croot/opencv-suite_1676472757237/work/modules/highgui/src/window.cpp:967: error: (-215:Assertion failed) size.width>0 && size.height>0 in function 'imshow'\n",
     "output_type": "error",
     "traceback": [
      "\u001b[0;31m---------------------------------------------------------------------------\u001b[0m",
      "\u001b[0;31merror\u001b[0m                                     Traceback (most recent call last)",
      "Cell \u001b[0;32mIn[4], line 15\u001b[0m\n\u001b[1;32m      6\u001b[0m     ret, frame \u001b[38;5;241m=\u001b[39m cap\u001b[38;5;241m.\u001b[39mread()\n\u001b[1;32m      8\u001b[0m \u001b[38;5;66;03m#     frame = frame[120:120 + 250, 200: + 250, :]\u001b[39;00m\n\u001b[1;32m      9\u001b[0m     \n\u001b[1;32m     10\u001b[0m \u001b[38;5;66;03m#     if cv2.waitKey(1) & 0XFF == ord('p'):\u001b[39;00m\n\u001b[0;32m   (...)\u001b[0m\n\u001b[1;32m     13\u001b[0m         \n\u001b[1;32m     14\u001b[0m \u001b[38;5;66;03m#     this shows image taken on the screen\u001b[39;00m\n\u001b[0;32m---> 15\u001b[0m     \u001b[43mcv2\u001b[49m\u001b[38;5;241;43m.\u001b[39;49m\u001b[43mimshow\u001b[49m\u001b[43m(\u001b[49m\u001b[38;5;124;43m'\u001b[39;49m\u001b[38;5;124;43mImage Collection\u001b[39;49m\u001b[38;5;124;43m'\u001b[39;49m\u001b[43m,\u001b[49m\u001b[43m \u001b[49m\u001b[43mframe\u001b[49m\u001b[43m)\u001b[49m\n\u001b[1;32m     17\u001b[0m \u001b[38;5;66;03m# this ends the webcam. it waits 1 second and the ends when the key 'q' is pressed\u001b[39;00m\n\u001b[1;32m     18\u001b[0m     \u001b[38;5;28;01mif\u001b[39;00m cv2\u001b[38;5;241m.\u001b[39mWaitKey(\u001b[38;5;241m1\u001b[39m) \u001b[38;5;241m&\u001b[39m \u001b[38;5;241m0XFF\u001b[39m \u001b[38;5;241m==\u001b[39m \u001b[38;5;28mord\u001b[39m(\u001b[38;5;124m'\u001b[39m\u001b[38;5;124mq\u001b[39m\u001b[38;5;124m'\u001b[39m):\n",
      "\u001b[0;31merror\u001b[0m: OpenCV(4.6.0) /private/var/folders/sy/f16zz6x50xz3113nwtb9bvq00000gp/T/abs_5a1v4y7k9y/croot/opencv-suite_1676472757237/work/modules/highgui/src/window.cpp:967: error: (-215:Assertion failed) size.width>0 && size.height>0 in function 'imshow'\n"
     ]
    }
   ],
   "source": [
    "# creating a connection to the webcam\n",
    "cap = cv2.VideoCapture(1)\n",
    "# loops through every frame in our webcam\n",
    "while cap.isOpened():\n",
    "#     cap.read() reads a capture at a point in time and creates a frame (and a return value)\n",
    "    ret, frame = cap.read()\n",
    "    \n",
    "#     frame = frame[120:120 + 250, 200: + 250, :]\n",
    "    \n",
    "#     if cv2.waitKey(1) & 0XFF == ord('p'):\n",
    "#         imgname = os.path.join(pos_path, '{}.jpg'.format(uuid.uuid1()))\n",
    "#         cv2.imwrite(imgname, frame)\n",
    "        \n",
    "#     this shows image taken on the screen\n",
    "    cv2.imshow('Image Collection', frame)\n",
    "    \n",
    "# this ends the webcam. it waits 1 second and the ends when the key 'q' is pressed\n",
    "    if cv2.WaitKey(1) & 0XFF == ord('q'):\n",
    "        break\n",
    "\n",
    "# releases the webcam\n",
    "cap.release()\n",
    "cv2.destroyAllWindows()"
   ]
  },
  {
   "cell_type": "code",
   "execution_count": null,
   "id": "036ea5e0",
   "metadata": {},
   "outputs": [],
   "source": [
    "plt.imshow(frame)"
   ]
  }
 ],
 "metadata": {
  "kernelspec": {
   "display_name": "Python 3 (ipykernel)",
   "language": "python",
   "name": "python3"
  },
  "language_info": {
   "codemirror_mode": {
    "name": "ipython",
    "version": 3
   },
   "file_extension": ".py",
   "mimetype": "text/x-python",
   "name": "python",
   "nbconvert_exporter": "python",
   "pygments_lexer": "ipython3",
   "version": "3.10.9"
  },
  "varInspector": {
   "cols": {
    "lenName": 16,
    "lenType": 16,
    "lenVar": 40
   },
   "kernels_config": {
    "python": {
     "delete_cmd_postfix": "",
     "delete_cmd_prefix": "del ",
     "library": "var_list.py",
     "varRefreshCmd": "print(var_dic_list())"
    },
    "r": {
     "delete_cmd_postfix": ") ",
     "delete_cmd_prefix": "rm(",
     "library": "var_list.r",
     "varRefreshCmd": "cat(var_dic_list()) "
    }
   },
   "types_to_exclude": [
    "module",
    "function",
    "builtin_function_or_method",
    "instance",
    "_Feature"
   ],
   "window_display": false
  }
 },
 "nbformat": 4,
 "nbformat_minor": 5
}
